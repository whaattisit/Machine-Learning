{
 "cells": [
  {
   "cell_type": "code",
   "execution_count": 3,
   "id": "063dfca7",
   "metadata": {},
   "outputs": [],
   "source": [
    "import pandas as pd\n",
    "import matplotlib.pyplot as plt \n",
    "\n",
    "from sklearn.preprocessing import OneHotEncoder\n",
    "\n",
    "df_bike = pd.read_csv(\"Bike.csv\")\n",
    "\n",
    "df_bike.rename(columns={'cnt': 'cnt_rental_bike'}, inplace=True)"
   ]
  },
  {
   "cell_type": "code",
   "execution_count": 4,
   "id": "bd3fd8aa",
   "metadata": {},
   "outputs": [
    {
     "name": "stdout",
     "output_type": "stream",
     "text": [
      "   instant      dteday  season  yr  mnth  hr  holiday  weekday  workingday  \\\n",
      "0        1  2011-01-01       1   0     1   0        0        6           0   \n",
      "1        2  2011-01-01       1   0     1   1        0        6           0   \n",
      "2        3  2011-01-01       1   0     1   2        0        6           0   \n",
      "3        4  2011-01-01       1   0     1   3        0        6           0   \n",
      "4        5  2011-01-01       1   0     1   4        0        6           0   \n",
      "\n",
      "   weathersit  temp   atemp   hum  windspeed  casual  registered  \\\n",
      "0           1  0.24  0.2879  0.81        0.0       3          13   \n",
      "1           1  0.22  0.2727  0.80        0.0       8          32   \n",
      "2           1  0.22  0.2727  0.80        0.0       5          27   \n",
      "3           1  0.24  0.2879  0.75        0.0       3          10   \n",
      "4           1  0.24  0.2879  0.75        0.0       0           1   \n",
      "\n",
      "   cnt_rental_bike  \n",
      "0               16  \n",
      "1               40  \n",
      "2               32  \n",
      "3               13  \n",
      "4                1  \n",
      "(17379, 17)\n",
      "instant              int64\n",
      "dteday              object\n",
      "season               int64\n",
      "yr                   int64\n",
      "mnth                 int64\n",
      "hr                   int64\n",
      "holiday              int64\n",
      "weekday              int64\n",
      "workingday           int64\n",
      "weathersit           int64\n",
      "temp               float64\n",
      "atemp              float64\n",
      "hum                float64\n",
      "windspeed          float64\n",
      "casual               int64\n",
      "registered           int64\n",
      "cnt_rental_bike      int64\n",
      "dtype: object\n"
     ]
    }
   ],
   "source": [
    "# 1\n",
    "\n",
    "print(df_bike.head())\n",
    "print(df_bike.shape)\n",
    "print(df_bike.dtypes)"
   ]
  },
  {
   "cell_type": "code",
   "execution_count": 5,
   "id": "0fcc09ad",
   "metadata": {},
   "outputs": [
    {
     "data": {
      "text/plain": [
       "instant            0\n",
       "dteday             0\n",
       "season             0\n",
       "yr                 0\n",
       "mnth               0\n",
       "hr                 0\n",
       "holiday            0\n",
       "weekday            0\n",
       "workingday         0\n",
       "weathersit         0\n",
       "temp               0\n",
       "atemp              0\n",
       "hum                0\n",
       "windspeed          0\n",
       "casual             0\n",
       "registered         0\n",
       "cnt_rental_bike    0\n",
       "dtype: int64"
      ]
     },
     "execution_count": 5,
     "metadata": {},
     "output_type": "execute_result"
    }
   ],
   "source": [
    "# 2\n",
    "df_bike.isnull().sum()"
   ]
  },
  {
   "cell_type": "code",
   "execution_count": 6,
   "id": "193d61d1",
   "metadata": {},
   "outputs": [
    {
     "name": "stdout",
     "output_type": "stream",
     "text": [
      "0\n"
     ]
    }
   ],
   "source": [
    "# 3\n",
    "print(df_bike.duplicated().sum())"
   ]
  },
  {
   "cell_type": "code",
   "execution_count": 7,
   "id": "eefde451",
   "metadata": {},
   "outputs": [
    {
     "name": "stdout",
     "output_type": "stream",
     "text": [
      "   instant  season            datetime\n",
      "0        1       1 2011-01-01 00:00:00\n",
      "1        2       1 2011-01-01 01:00:00\n",
      "2        3       1 2011-01-01 02:00:00\n",
      "3        4       1 2011-01-01 03:00:00\n",
      "4        5       1 2011-01-01 04:00:00\n"
     ]
    }
   ],
   "source": [
    "# 4\n",
    "df_bike['datetime'] = pd.to_datetime(df_bike['dteday']) + pd.to_timedelta(df_bike['hr'], 'h')\n",
    "print(df_bike[['instant', 'season', 'datetime']].head())"
   ]
  },
  {
   "cell_type": "code",
   "execution_count": 8,
   "id": "f2c1eae1",
   "metadata": {},
   "outputs": [
    {
     "data": {
      "text/html": [
       "<div>\n",
       "<style scoped>\n",
       "    .dataframe tbody tr th:only-of-type {\n",
       "        vertical-align: middle;\n",
       "    }\n",
       "\n",
       "    .dataframe tbody tr th {\n",
       "        vertical-align: top;\n",
       "    }\n",
       "\n",
       "    .dataframe thead th {\n",
       "        text-align: right;\n",
       "    }\n",
       "</style>\n",
       "<table border=\"1\" class=\"dataframe\">\n",
       "  <thead>\n",
       "    <tr style=\"text-align: right;\">\n",
       "      <th></th>\n",
       "      <th>instant</th>\n",
       "      <th>season</th>\n",
       "      <th>yr</th>\n",
       "      <th>mnth</th>\n",
       "      <th>hr</th>\n",
       "      <th>holiday</th>\n",
       "      <th>weekday</th>\n",
       "      <th>workingday</th>\n",
       "      <th>weathersit</th>\n",
       "      <th>temp</th>\n",
       "      <th>atemp</th>\n",
       "      <th>hum</th>\n",
       "      <th>windspeed</th>\n",
       "      <th>casual</th>\n",
       "      <th>registered</th>\n",
       "      <th>cnt_rental_bike</th>\n",
       "      <th>datetime</th>\n",
       "    </tr>\n",
       "  </thead>\n",
       "  <tbody>\n",
       "    <tr>\n",
       "      <th>count</th>\n",
       "      <td>17379.0000</td>\n",
       "      <td>17379.000000</td>\n",
       "      <td>17379.000000</td>\n",
       "      <td>17379.000000</td>\n",
       "      <td>17379.000000</td>\n",
       "      <td>17379.000000</td>\n",
       "      <td>17379.000000</td>\n",
       "      <td>17379.000000</td>\n",
       "      <td>17379.000000</td>\n",
       "      <td>17379.000000</td>\n",
       "      <td>17379.000000</td>\n",
       "      <td>17379.000000</td>\n",
       "      <td>17379.000000</td>\n",
       "      <td>17379.000000</td>\n",
       "      <td>17379.000000</td>\n",
       "      <td>17379.000000</td>\n",
       "      <td>17379</td>\n",
       "    </tr>\n",
       "    <tr>\n",
       "      <th>mean</th>\n",
       "      <td>8690.0000</td>\n",
       "      <td>2.501640</td>\n",
       "      <td>0.502561</td>\n",
       "      <td>6.537775</td>\n",
       "      <td>11.546752</td>\n",
       "      <td>0.028770</td>\n",
       "      <td>3.003683</td>\n",
       "      <td>0.682721</td>\n",
       "      <td>1.425283</td>\n",
       "      <td>0.496987</td>\n",
       "      <td>0.475775</td>\n",
       "      <td>0.627229</td>\n",
       "      <td>0.190098</td>\n",
       "      <td>35.676218</td>\n",
       "      <td>153.786869</td>\n",
       "      <td>189.463088</td>\n",
       "      <td>2012-01-02 15:41:22.858622464</td>\n",
       "    </tr>\n",
       "    <tr>\n",
       "      <th>min</th>\n",
       "      <td>1.0000</td>\n",
       "      <td>1.000000</td>\n",
       "      <td>0.000000</td>\n",
       "      <td>1.000000</td>\n",
       "      <td>0.000000</td>\n",
       "      <td>0.000000</td>\n",
       "      <td>0.000000</td>\n",
       "      <td>0.000000</td>\n",
       "      <td>1.000000</td>\n",
       "      <td>0.020000</td>\n",
       "      <td>0.000000</td>\n",
       "      <td>0.000000</td>\n",
       "      <td>0.000000</td>\n",
       "      <td>0.000000</td>\n",
       "      <td>0.000000</td>\n",
       "      <td>1.000000</td>\n",
       "      <td>2011-01-01 00:00:00</td>\n",
       "    </tr>\n",
       "    <tr>\n",
       "      <th>25%</th>\n",
       "      <td>4345.5000</td>\n",
       "      <td>2.000000</td>\n",
       "      <td>0.000000</td>\n",
       "      <td>4.000000</td>\n",
       "      <td>6.000000</td>\n",
       "      <td>0.000000</td>\n",
       "      <td>1.000000</td>\n",
       "      <td>0.000000</td>\n",
       "      <td>1.000000</td>\n",
       "      <td>0.340000</td>\n",
       "      <td>0.333300</td>\n",
       "      <td>0.480000</td>\n",
       "      <td>0.104500</td>\n",
       "      <td>4.000000</td>\n",
       "      <td>34.000000</td>\n",
       "      <td>40.000000</td>\n",
       "      <td>2011-07-04 22:30:00</td>\n",
       "    </tr>\n",
       "    <tr>\n",
       "      <th>50%</th>\n",
       "      <td>8690.0000</td>\n",
       "      <td>3.000000</td>\n",
       "      <td>1.000000</td>\n",
       "      <td>7.000000</td>\n",
       "      <td>12.000000</td>\n",
       "      <td>0.000000</td>\n",
       "      <td>3.000000</td>\n",
       "      <td>1.000000</td>\n",
       "      <td>1.000000</td>\n",
       "      <td>0.500000</td>\n",
       "      <td>0.484800</td>\n",
       "      <td>0.630000</td>\n",
       "      <td>0.194000</td>\n",
       "      <td>17.000000</td>\n",
       "      <td>115.000000</td>\n",
       "      <td>142.000000</td>\n",
       "      <td>2012-01-02 21:00:00</td>\n",
       "    </tr>\n",
       "    <tr>\n",
       "      <th>75%</th>\n",
       "      <td>13034.5000</td>\n",
       "      <td>3.000000</td>\n",
       "      <td>1.000000</td>\n",
       "      <td>10.000000</td>\n",
       "      <td>18.000000</td>\n",
       "      <td>0.000000</td>\n",
       "      <td>5.000000</td>\n",
       "      <td>1.000000</td>\n",
       "      <td>2.000000</td>\n",
       "      <td>0.660000</td>\n",
       "      <td>0.621200</td>\n",
       "      <td>0.780000</td>\n",
       "      <td>0.253700</td>\n",
       "      <td>48.000000</td>\n",
       "      <td>220.000000</td>\n",
       "      <td>281.000000</td>\n",
       "      <td>2012-07-02 06:30:00</td>\n",
       "    </tr>\n",
       "    <tr>\n",
       "      <th>max</th>\n",
       "      <td>17379.0000</td>\n",
       "      <td>4.000000</td>\n",
       "      <td>1.000000</td>\n",
       "      <td>12.000000</td>\n",
       "      <td>23.000000</td>\n",
       "      <td>1.000000</td>\n",
       "      <td>6.000000</td>\n",
       "      <td>1.000000</td>\n",
       "      <td>4.000000</td>\n",
       "      <td>1.000000</td>\n",
       "      <td>1.000000</td>\n",
       "      <td>1.000000</td>\n",
       "      <td>0.850700</td>\n",
       "      <td>367.000000</td>\n",
       "      <td>886.000000</td>\n",
       "      <td>977.000000</td>\n",
       "      <td>2012-12-31 23:00:00</td>\n",
       "    </tr>\n",
       "    <tr>\n",
       "      <th>std</th>\n",
       "      <td>5017.0295</td>\n",
       "      <td>1.106918</td>\n",
       "      <td>0.500008</td>\n",
       "      <td>3.438776</td>\n",
       "      <td>6.914405</td>\n",
       "      <td>0.167165</td>\n",
       "      <td>2.005771</td>\n",
       "      <td>0.465431</td>\n",
       "      <td>0.639357</td>\n",
       "      <td>0.192556</td>\n",
       "      <td>0.171850</td>\n",
       "      <td>0.192930</td>\n",
       "      <td>0.122340</td>\n",
       "      <td>49.305030</td>\n",
       "      <td>151.357286</td>\n",
       "      <td>181.387599</td>\n",
       "      <td>NaN</td>\n",
       "    </tr>\n",
       "  </tbody>\n",
       "</table>\n",
       "</div>"
      ],
      "text/plain": [
       "          instant        season            yr          mnth            hr  \\\n",
       "count  17379.0000  17379.000000  17379.000000  17379.000000  17379.000000   \n",
       "mean    8690.0000      2.501640      0.502561      6.537775     11.546752   \n",
       "min        1.0000      1.000000      0.000000      1.000000      0.000000   \n",
       "25%     4345.5000      2.000000      0.000000      4.000000      6.000000   \n",
       "50%     8690.0000      3.000000      1.000000      7.000000     12.000000   \n",
       "75%    13034.5000      3.000000      1.000000     10.000000     18.000000   \n",
       "max    17379.0000      4.000000      1.000000     12.000000     23.000000   \n",
       "std     5017.0295      1.106918      0.500008      3.438776      6.914405   \n",
       "\n",
       "            holiday       weekday    workingday    weathersit          temp  \\\n",
       "count  17379.000000  17379.000000  17379.000000  17379.000000  17379.000000   \n",
       "mean       0.028770      3.003683      0.682721      1.425283      0.496987   \n",
       "min        0.000000      0.000000      0.000000      1.000000      0.020000   \n",
       "25%        0.000000      1.000000      0.000000      1.000000      0.340000   \n",
       "50%        0.000000      3.000000      1.000000      1.000000      0.500000   \n",
       "75%        0.000000      5.000000      1.000000      2.000000      0.660000   \n",
       "max        1.000000      6.000000      1.000000      4.000000      1.000000   \n",
       "std        0.167165      2.005771      0.465431      0.639357      0.192556   \n",
       "\n",
       "              atemp           hum     windspeed        casual    registered  \\\n",
       "count  17379.000000  17379.000000  17379.000000  17379.000000  17379.000000   \n",
       "mean       0.475775      0.627229      0.190098     35.676218    153.786869   \n",
       "min        0.000000      0.000000      0.000000      0.000000      0.000000   \n",
       "25%        0.333300      0.480000      0.104500      4.000000     34.000000   \n",
       "50%        0.484800      0.630000      0.194000     17.000000    115.000000   \n",
       "75%        0.621200      0.780000      0.253700     48.000000    220.000000   \n",
       "max        1.000000      1.000000      0.850700    367.000000    886.000000   \n",
       "std        0.171850      0.192930      0.122340     49.305030    151.357286   \n",
       "\n",
       "       cnt_rental_bike                       datetime  \n",
       "count     17379.000000                          17379  \n",
       "mean        189.463088  2012-01-02 15:41:22.858622464  \n",
       "min           1.000000            2011-01-01 00:00:00  \n",
       "25%          40.000000            2011-07-04 22:30:00  \n",
       "50%         142.000000            2012-01-02 21:00:00  \n",
       "75%         281.000000            2012-07-02 06:30:00  \n",
       "max         977.000000            2012-12-31 23:00:00  \n",
       "std         181.387599                            NaN  "
      ]
     },
     "execution_count": 8,
     "metadata": {},
     "output_type": "execute_result"
    }
   ],
   "source": [
    "# 5\n",
    "df_bike.describe()"
   ]
  },
  {
   "cell_type": "code",
   "execution_count": 9,
   "id": "ae6db479",
   "metadata": {},
   "outputs": [
    {
     "name": "stdout",
     "output_type": "stream",
     "text": [
      "Number of bike rentals: 3292679\n",
      "Average: 189.46308763450142\n",
      "Minimal: 1\n",
      "Maximum: 977\n"
     ]
    }
   ],
   "source": [
    "# 6\n",
    "print('Number of bike rentals:', df_bike['cnt_rental_bike'].sum())\n",
    "print('Average:', df_bike['cnt_rental_bike'].mean())\n",
    "print('Minimal:', df_bike['cnt_rental_bike'].min())\n",
    "print('Maximum:', df_bike['cnt_rental_bike'].max())"
   ]
  },
  {
   "cell_type": "code",
   "execution_count": 10,
   "id": "9a154d01",
   "metadata": {},
   "outputs": [
    {
     "data": {
      "image/png": "[encoded data removed]",
      "text/plain": [
       "<Figure size 640x480 with 1 Axes>"
      ]
     },
     "metadata": {},
     "output_type": "display_data"
    }
   ],
   "source": [
    "# 7\n",
    "import seaborn as sns\n",
    "\n",
    "sns.boxplot(x = 'season', y = 'cnt_rental_bike', data=df_bike)\n",
    "plt.xlabel('Season')\n",
    "plt.ylabel('Bikes rented in days')\n",
    "plt.title('Distribution of rentals by season')\n",
    "plt.show()"
   ]
  },
  {
   "cell_type": "code",
   "execution_count": 12,
   "id": "d8dc2fe2",
   "metadata": {},
   "outputs": [
    {
     "data": {
      "image/png": "[encoded data removed]",
      "text/plain": [
       "<Figure size 640x480 with 1 Axes>"
      ]
     },
     "metadata": {},
     "output_type": "display_data"
    }
   ],
   "source": [
    "# 8 \n",
    "df_bike[['casual', 'registered']].mean().plot(kind='bar')\n",
    "plt.title('average rentals: casual vs registered')\n",
    "plt.show()"
   ]
  },
  {
   "cell_type": "code",
   "execution_count": 23,
   "id": "fc9e95ae",
   "metadata": {},
   "outputs": [
    {
     "data": {
      "text/plain": [
       "array(['clear', 'cloudy', 'light_rain', 'heavy_rain'], dtype=object)"
      ]
     },
     "execution_count": 23,
     "metadata": {},
     "output_type": "execute_result"
    }
   ],
   "source": [
    "mapping = {\n",
    "    1: 'clear',\n",
    "    2: 'cloudy',\n",
    "    3: 'light_rain',\n",
    "    4: 'heavy_rain'\n",
    "}\n",
    "df_bike['weathersit'] = df_bike['weathersit'].replace(mapping)\n",
    "df_bike['weathersit'].unique()"
   ]
  },
  {
   "cell_type": "code",
   "execution_count": 24,
   "id": "32c9792b",
   "metadata": {},
   "outputs": [
    {
     "data": {
      "text/plain": [
       "dtype('O')"
      ]
     },
     "execution_count": 24,
     "metadata": {},
     "output_type": "execute_result"
    }
   ],
   "source": [
    "df_bike['weathersit'].dtype"
   ]
  },
  {
   "cell_type": "code",
   "execution_count": 27,
   "id": "3557f994",
   "metadata": {},
   "outputs": [
    {
     "data": {
      "image/png": "[encoded data removed]",
      "text/plain": [
       "<Figure size 640x480 with 1 Axes>"
      ]
     },
     "metadata": {},
     "output_type": "display_data"
    }
   ],
   "source": [
    "sns.boxplot(x = 'weathersit', y = 'cnt_rental_bike', data = df_bike)\n",
    "plt.title('Weather affecting rentals')\n",
    "plt.show()"
   ]
  },
  {
   "cell_type": "code",
   "execution_count": 35,
   "id": "c59e4dfc",
   "metadata": {},
   "outputs": [
    {
     "name": "stdout",
     "output_type": "stream",
     "text": [
      "[[0. 0. 0. ... 0. 0. 0.]\n",
      " [0. 0. 0. ... 0. 0. 0.]\n",
      " [0. 0. 0. ... 0. 0. 0.]\n",
      " [0. 0. 0. ... 0. 0. 0.]\n",
      " [1. 0. 0. ... 0. 0. 0.]]\n"
     ]
    }
   ],
   "source": [
    "encoder = OneHotEncoder()\n",
    "encoded = encoder.fit_transform(df_bike[['cnt_rental_bike']]).toarray()\n",
    "print(encoded[:5]) "
   ]
  },
  {
   "cell_type": "code",
   "execution_count": 37,
   "id": "c141df61",
   "metadata": {},
   "outputs": [
    {
     "name": "stdout",
     "output_type": "stream",
     "text": [
      "   instant      dteday  season  yr  mnth  hr  holiday  weekday  workingday  \\\n",
      "0        1  2011-01-01       1   0     1   0        0        6           0   \n",
      "1        2  2011-01-01       1   0     1   1        0        6           0   \n",
      "2        3  2011-01-01       1   0     1   2        0        6           0   \n",
      "3        4  2011-01-01       1   0     1   3        0        6           0   \n",
      "4        5  2011-01-01       1   0     1   4        0        6           0   \n",
      "\n",
      "  weathersit  ...  registered  cnt_rental_bike            datetime  \\\n",
      "0      clear  ...          13               16 2011-01-01 00:00:00   \n",
      "1      clear  ...          32               40 2011-01-01 01:00:00   \n",
      "2      clear  ...          27               32 2011-01-01 02:00:00   \n",
      "3      clear  ...          10               13 2011-01-01 03:00:00   \n",
      "4      clear  ...           1                1 2011-01-01 04:00:00   \n",
      "\n",
      "  weathersit_cloudy  weathersit_heavy_rain  weathersit_light_rain  \\\n",
      "0               0.0                    0.0                    0.0   \n",
      "1               0.0                    0.0                    0.0   \n",
      "2               0.0                    0.0                    0.0   \n",
      "3               0.0                    0.0                    0.0   \n",
      "4               0.0                    0.0                    0.0   \n",
      "\n",
      "   weathersit_clear weathersit_cloudy  weathersit_heavy_rain  \\\n",
      "0               1.0               0.0                    0.0   \n",
      "1               1.0               0.0                    0.0   \n",
      "2               1.0               0.0                    0.0   \n",
      "3               1.0               0.0                    0.0   \n",
      "4               1.0               0.0                    0.0   \n",
      "\n",
      "   weathersit_light_rain  \n",
      "0                    0.0  \n",
      "1                    0.0  \n",
      "2                    0.0  \n",
      "3                    0.0  \n",
      "4                    0.0  \n",
      "\n",
      "[5 rows x 25 columns]\n"
     ]
    }
   ],
   "source": [
    "encoder = OneHotEncoder(sparse_output=False)  \n",
    "encoded = encoder.fit_transform(df_bike[['weathersit']])\n",
    "\n",
    "encoded_df = pd.DataFrame(encoded, columns=encoder.get_feature_names_out(['weathersit']))\n",
    "df_bike = pd.concat([df_bike.reset_index(drop=True), encoded_df.reset_index(drop=True)], axis=1)\n",
    "\n",
    "print(df_bike.head())"
   ]
  },
  {
   "cell_type": "code",
   "execution_count": null,
   "id": "3419588f",
   "metadata": {},
   "outputs": [
    {
     "name": "stdout",
     "output_type": "stream",
     "text": [
      "   season  season_encoded\n",
      "0       1             0.0\n",
      "1       1             0.0\n",
      "2       1             0.0\n",
      "3       1             0.0\n",
      "4       1             0.0\n"
     ]
    }
   ],
   "source": [
    "encoder = OneHotEncoder(drop='first') \n",
    "enci\n",
    "encoded_lineary_dependent = encoder.fit_transform(df_bike[['season_encoder']])\n",
    "encoded_lineary_independent = enco\n",
    "# This happening because of size of linear space of columns from encoded matrix is k - 1, where k is size of encoded matrix"
   ]
  },
  {
   "cell_type": "code",
   "execution_count": null,
   "id": "ccbe5571",
   "metadata": {},
   "outputs": [],
   "source": [
    "from sklearn.preprocessing import OrdinalEncoder\n",
    "\n",
    "\n",
    "ordinal_encoder = OrdinalEncoder()\n",
    "df_bike['season_encoded'] = ordinal_encoder.fit_transform(df_bike[['season']])\n",
    "print(df_bike[['season', 'season_encoded']].head())"
   ]
  },
  {
   "cell_type": "code",
   "execution_count": null,
   "id": "3ca9a1ce",
   "metadata": {},
   "outputs": [
    {
     "name": "stdout",
     "output_type": "stream",
     "text": [
      "   temp  temp_norm  temp_std\n",
      "0  0.24   0.224490 -1.334648\n",
      "1  0.22   0.204082 -1.438516\n",
      "2  0.22   0.204082 -1.438516\n",
      "3  0.24   0.224490 -1.334648\n",
      "4  0.24   0.224490 -1.334648\n"
     ]
    }
   ],
   "source": [
    "from sklearn.preprocessing import MinMaxScaler, StandardScaler\n",
    "\n",
    "scaler_minmax = MinMaxScaler()\n",
    "scaler_std = StandardScaler()\n",
    "df_bike['temp_norm'] = scaler_minmax.fit_transform(df_bike[['temp']])\n",
    "df_bike['temp_std'] = scaler_std.fit_transform(df_bike[['temp']])\n",
    "print(df_bike[['temp', 'temp_norm', 'temp_std']].head())"
   ]
  },
  {
   "cell_type": "code",
   "execution_count": 43,
   "id": "7ea9c1ce",
   "metadata": {},
   "outputs": [
    {
     "data": {
      "image/png": "[encoded data removed]",
      "text/plain": [
       "<Figure size 1000x400 with 2 Axes>"
      ]
     },
     "metadata": {},
     "output_type": "display_data"
    },
    {
     "data": {
      "image/png": "[encoded data removed]",
      "text/plain": [
       "<Figure size 640x480 with 1 Axes>"
      ]
     },
     "metadata": {},
     "output_type": "display_data"
    }
   ],
   "source": [
    "import matplotlib.pyplot as plt\n",
    "\n",
    "df_bike[['temp_norm', 'temp_std']].hist(bins=30, figsize=(10,4))\n",
    "plt.show()\n",
    "\n",
    "import seaborn as sns\n",
    "\n",
    "sns.kdeplot(df_bike['temp_norm'], label='MinMaxScaler')\n",
    "sns.kdeplot(df_bike['temp_std'], label='StandardScaler')\n",
    "plt.legend()\n",
    "plt.show()"
   ]
  },
  {
   "cell_type": "markdown",
   "id": "d0d92326",
   "metadata": {},
   "source": [
    "# 1. (B) Nominal.\n",
    "\n",
    "# 2. Nominal - categories without order (colors, for example); Ordinal - categories with natural order (education level, for example).\n",
    "\n",
    "# 3. (A) True.\n",
    "\n",
    "# 4. The sum of the values ​​in these n columns = 1 for each row so the total sum is number of rows.\n",
    "\n",
    "# 5. To avoid linear dependenc between this kind of columns, they can be represented through each other. The term is multicollinearity.\n",
    "\n",
    "# 6. I think Ordinal Encoding cause these ordered categories.\n",
    "\n",
    "# 7. For example if theres a 'country\" feature with 200 categories so, you will get 200 new columns.\n",
    "\n",
    "# 8. (B) Standardization.\n",
    "\n",
    "# 9. (B) False.\n",
    "\n",
    "# 10. min=10, max=53, range=43; (10-10)/43 = 0.00, (22-10)/43 = 0.28, (27-10)/43 = 0.40, (53-10)/43 = 1.00; scale = {0.00, 0.28, 0.40, 1.00}.\n",
    "\n",
    "# 11. (75-50)/10 = 2.5.\n",
    "\n",
    "# 12. This is especially important for scale-sensitive models, for example: linear regression, KNN."
   ]
  }
 ],
 "metadata": {
  "kernelspec": {
   "display_name": "Python 3",
   "language": "python",
   "name": "python3"
  },
  "language_info": {
   "codemirror_mode": {
    "name": "ipython",
    "version": 3
   },
   "file_extension": ".py",
   "mimetype": "text/x-python",
   "name": "python",
   "nbconvert_exporter": "python",
   "pygments_lexer": "ipython3",
   "version": "3.13.0"
  }
 },
 "nbformat": 4,
 "nbformat_minor": 5
}
